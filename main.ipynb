{
 "cells": [
  {
   "cell_type": "code",
   "execution_count": 1,
   "metadata": {},
   "outputs": [
    {
     "data": {
      "text/plain": [
       "True"
      ]
     },
     "execution_count": 1,
     "metadata": {},
     "output_type": "execute_result"
    }
   ],
   "source": [
    "import argparse\n",
    "import os\n",
    "\n",
    "import numpy as np\n",
    "import matplotlib\n",
    "# matplotlib.use('Agg')\n",
    "import matplotlib.pyplot as plt\n",
    "\n",
    "import torch\n",
    "import torch.autograd as autograd\n",
    "import torch.optim as optim\n",
    "from tqdm import tqdm\n",
    "\n",
    "import torchvision.transforms as transforms\n",
    "import torchvision.datasets as dsets\n",
    "import torchvision.models as models\n",
    "\n",
    "from torch.utils.tensorboard import SummaryWriter\n",
    "\n",
    "from dataset.dataset import AVADataset\n",
    "\n",
    "from model.model import *\n",
    "\n",
    "from dotenv import load_dotenv\n",
    "load_dotenv()"
   ]
  },
  {
   "cell_type": "code",
   "execution_count": 2,
   "metadata": {},
   "outputs": [],
   "source": [
    "IMAGE_PATH = os.getenv(\"AVA_IMAGE_PATH\")\n",
    "TRAIN_CSV = os.getenv(\"AVA_TRAIN_CSV\")\n",
    "TEST_CSV  = os.getenv(\"AVA_TEST_CSV\")\n",
    "VAL_CSV   = os.getenv(\"AVA_VAL_CSV\")\n",
    "\n",
    "BATCH_SIZE = 32\n",
    "CONV_LEARNING_RATE = 5e-4\n",
    "DENSE_LEARNING_RATE = 5e-3\n",
    "\n",
    "DECAY = False\n",
    "\n",
    "EPOCHS = 100\n",
    "EARLY_STOPPING = 10"
   ]
  },
  {
   "cell_type": "code",
   "execution_count": 3,
   "metadata": {},
   "outputs": [],
   "source": [
    "device = torch.device(\"cuda\" if torch.cuda.is_available() else \"cpu\")\n",
    "writer = SummaryWriter()\n",
    "\n",
    "train_transform = transforms.Compose([\n",
    "    transforms.Resize(256),\n",
    "    transforms.RandomCrop(224),\n",
    "    transforms.RandomHorizontalFlip(),\n",
    "    transforms.ToTensor(),\n",
    "    transforms.Normalize(mean=[0.485, 0.456, 0.406], std=[0.229, 0.224, 0.225])])\n",
    "\n",
    "val_transform = transforms.Compose([\n",
    "    transforms.Resize(256),\n",
    "    transforms.RandomCrop(224),\n",
    "    transforms.ToTensor(),\n",
    "    transforms.Normalize(mean=[0.485, 0.456, 0.406], std=[0.229, 0.224, 0.225])])"
   ]
  },
  {
   "cell_type": "code",
   "execution_count": 4,
   "metadata": {},
   "outputs": [],
   "source": [
    "trainset = AVADataset(TRAIN_CSV, IMAGE_PATH, transform=train_transform)\n",
    "valset   = AVADataset(VAL_CSV, IMAGE_PATH, transform=val_transform)\n",
    "\n",
    "train_loader = torch.utils.data.DataLoader(trainset, batch_size=BATCH_SIZE, shuffle=True, num_workers=os.cpu_count())\n",
    "val_loader   = torch.utils.data.DataLoader(valset, batch_size=BATCH_SIZE, shuffle=False, num_workers=os.cpu_count())"
   ]
  },
  {
   "cell_type": "code",
   "execution_count": 5,
   "metadata": {},
   "outputs": [],
   "source": [
    "def train_model(model, optimizer, epoch, train_losses, avg_loss):\n",
    "    # Train\n",
    "    batch_losses = []\n",
    "    pbar = tqdm(train_loader)\n",
    "    for i, data in enumerate(pbar):\n",
    "        images = data['image'].to(device)\n",
    "        labels = data['annotations'].to(device).float()\n",
    "        outputs = model(images)\n",
    "        outputs = outputs.view(-1, 10, 1)\n",
    "        \n",
    "        optimizer.zero_grad()\n",
    "        \n",
    "        loss = emd_loss(labels, outputs)\n",
    "        batch_losses.append(loss.item())\n",
    "        \n",
    "        loss.backward()\n",
    "        optimizer.step()\n",
    "        \n",
    "        writer.add_scalar('batch train loss', loss.data[0], i + epoch * (len(trainset) // BATCH_SIZE + 1))\n",
    "        \n",
    "        # tqdm description\n",
    "        pbar.set_description('Epoch: [{0}][{1}/{2}]\\t' 'Batch Loss {loss:.4f}\\t'.format(epoch, i, len(trainset) // BATCH_SIZE + 1, loss=loss.data[0]))\n",
    "    \n",
    "    avg_loss = np.sum(batch_losses) / (len(trainset) // BATCH_SIZE + 1)\n",
    "    train_losses.append(avg_loss)\n",
    "    print('Epoch: [{0}]\\t' 'Mean Training EMD Loss {loss:.4f}\\t'.format(epoch + 1, loss=avg_loss))"
   ]
  },
  {
   "cell_type": "code",
   "execution_count": 6,
   "metadata": {},
   "outputs": [],
   "source": [
    "def validation(model, val_losses, avg_val_loss, avg_loss, epoch):\n",
    "    # Validation\n",
    "    batch_val_losses = []\n",
    "    pbar = tqdm(val_loader)\n",
    "    for data in pbar:\n",
    "        images = data['image'].to(device)\n",
    "        labels = data['annotations'].to(device).float()\n",
    "        with torch.no_grad():\n",
    "            outputs = model(images)\n",
    "        outputs = outputs.view(-1, 10, 1)\n",
    "        val_loss = emd_loss(labels, outputs)\n",
    "        batch_val_losses.append(val_loss.item())\n",
    "        \n",
    "        # tqdm description\n",
    "        pbar.set_description('Epoch: [{0}] Validation Loss {loss:.4f}\\t'.format(epoch, loss=val_loss.data[0]))\n",
    "        \n",
    "    avg_val_loss = np.sum(batch_val_losses) / (len(valset) // BATCH_SIZE + 1)\n",
    "    val_losses.append(avg_val_loss)\n",
    "    print('Epoch: [{0}]\\t' 'Mean Validation EMD Loss {loss:.4f}\\t'.format(epoch + 1, loss=avg_val_loss))\n",
    "    writer.add_scalars('epoch loss', {'train': avg_loss, 'val': avg_val_loss}, epoch + 1)"
   ]
  },
  {
   "cell_type": "code",
   "execution_count": 7,
   "metadata": {},
   "outputs": [
    {
     "name": "stdout",
     "output_type": "stream",
     "text": [
      "Total trainable parameters: 14965578\n"
     ]
    }
   ],
   "source": [
    "base_model = models.vgg16(weights = models.VGG16_Weights.DEFAULT)\n",
    "model = NIMA(base_model).to(device)\n",
    "optimizer = optim.SGD([\n",
    "    {'params': model.features.parameters(), 'lr': CONV_LEARNING_RATE},\n",
    "    {'params': model.classifier.parameters(), 'lr': DENSE_LEARNING_RATE}],\n",
    "    momentum=0.9)\n",
    "\n",
    "param_num = 0\n",
    "for param in model.parameters():\n",
    "    if param.requires_grad:\n",
    "        param_num += param.numel()\n",
    "print('Total trainable parameters: %d' % param_num)"
   ]
  },
  {
   "cell_type": "code",
   "execution_count": 8,
   "metadata": {},
   "outputs": [
    {
     "name": "stderr",
     "output_type": "stream",
     "text": [
      "  0%|          | 0/7187 [00:00<?, ?it/s]/media/research/neural-image-assessment/.venv/lib/python3.10/site-packages/torch/nn/modules/container.py:217: UserWarning: Implicit dimension choice for softmax has been deprecated. Change the call to include dim=X as an argument.\n",
      "  input = module(input)\n",
      "Epoch: [0][631/7187]\tBatch Loss 0.0921\t:   9%|▉         | 632/7187 [01:57<20:29,  5.33it/s]/media/research/neural-image-assessment/.venv/lib/python3.10/site-packages/PIL/TiffImagePlugin.py:864: UserWarning: Truncated File Read\n",
      "  warnings.warn(str(msg))\n",
      "Epoch: [0][1064/7187]\tBatch Loss 0.0887\t:  15%|█▍        | 1065/7187 [03:18<19:14,  5.30it/s]/media/research/neural-image-assessment/.venv/lib/python3.10/site-packages/PIL/TiffImagePlugin.py:864: UserWarning: Truncated File Read\n",
      "  warnings.warn(str(msg))\n",
      "Epoch: [0][1292/7187]\tBatch Loss 0.0708\t:  18%|█▊        | 1293/7187 [04:00<18:24,  5.34it/s]/media/research/neural-image-assessment/.venv/lib/python3.10/site-packages/PIL/TiffImagePlugin.py:864: UserWarning: Truncated File Read\n",
      "  warnings.warn(str(msg))\n",
      "Epoch: [0][1323/7187]\tBatch Loss 0.0841\t:  18%|█▊        | 1324/7187 [04:06<18:19,  5.33it/s]/media/research/neural-image-assessment/.venv/lib/python3.10/site-packages/PIL/TiffImagePlugin.py:864: UserWarning: Truncated File Read\n",
      "  warnings.warn(str(msg))\n",
      "Epoch: [0][2140/7187]\tBatch Loss 0.0826\t:  30%|██▉       | 2141/7187 [06:36<15:08,  5.55it/s]/media/research/neural-image-assessment/.venv/lib/python3.10/site-packages/PIL/TiffImagePlugin.py:864: UserWarning: Truncated File Read\n",
      "  warnings.warn(str(msg))\n",
      "Epoch: [0][2192/7187]\tBatch Loss 0.0769\t:  31%|███       | 2193/7187 [06:46<15:27,  5.38it/s]/media/research/neural-image-assessment/.venv/lib/python3.10/site-packages/PIL/TiffImagePlugin.py:864: UserWarning: Truncated File Read\n",
      "  warnings.warn(str(msg))\n",
      "Epoch: [0][2726/7187]\tBatch Loss 0.0835\t:  38%|███▊      | 2727/7187 [08:24<13:35,  5.47it/s]/media/research/neural-image-assessment/.venv/lib/python3.10/site-packages/PIL/TiffImagePlugin.py:864: UserWarning: Corrupt EXIF data.  Expecting to read 2 bytes but only got 0. \n",
      "  warnings.warn(str(msg))\n",
      "Epoch: [0][2732/7187]\tBatch Loss 0.0817\t:  38%|███▊      | 2733/7187 [08:25<13:54,  5.33it/s]/media/research/neural-image-assessment/.venv/lib/python3.10/site-packages/PIL/TiffImagePlugin.py:864: UserWarning: Truncated File Read\n",
      "  warnings.warn(str(msg))\n",
      "Epoch: [0][3606/7187]\tBatch Loss 0.0829\t:  50%|█████     | 3607/7187 [11:07<10:42,  5.57it/s]/media/research/neural-image-assessment/.venv/lib/python3.10/site-packages/PIL/TiffImagePlugin.py:864: UserWarning: Truncated File Read\n",
      "  warnings.warn(str(msg))\n",
      "Epoch: [0][3909/7187]\tBatch Loss 0.0698\t:  54%|█████▍    | 3910/7187 [12:03<10:18,  5.30it/s]/media/research/neural-image-assessment/.venv/lib/python3.10/site-packages/PIL/TiffImagePlugin.py:864: UserWarning: Corrupt EXIF data.  Expecting to read 2 bytes but only got 0. \n",
      "  warnings.warn(str(msg))\n",
      "Epoch: [0][4394/7187]\tBatch Loss 0.0921\t:  61%|██████    | 4395/7187 [13:31<08:10,  5.69it/s]/media/research/neural-image-assessment/.venv/lib/python3.10/site-packages/PIL/TiffImagePlugin.py:864: UserWarning: Truncated File Read\n",
      "  warnings.warn(str(msg))\n",
      "Epoch: [0][5623/7187]\tBatch Loss 0.1010\t:  78%|███████▊  | 5624/7187 [17:17<04:54,  5.30it/s]/media/research/neural-image-assessment/.venv/lib/python3.10/site-packages/PIL/TiffImagePlugin.py:864: UserWarning: Truncated File Read\n",
      "  warnings.warn(str(msg))\n",
      "Epoch: [0][6069/7187]\tBatch Loss 0.0806\t:  84%|████████▍ | 6070/7187 [18:39<03:24,  5.47it/s]/media/research/neural-image-assessment/.venv/lib/python3.10/site-packages/PIL/TiffImagePlugin.py:864: UserWarning: Truncated File Read\n",
      "  warnings.warn(str(msg))\n",
      "Epoch: [0][6502/7187]\tBatch Loss 0.0790\t:  90%|█████████ | 6503/7187 [19:59<02:08,  5.34it/s]/media/research/neural-image-assessment/.venv/lib/python3.10/site-packages/PIL/TiffImagePlugin.py:864: UserWarning: Truncated File Read\n",
      "  warnings.warn(str(msg))\n",
      "Epoch: [0][6837/7187]\tBatch Loss 0.0789\t:  95%|█████████▌| 6838/7187 [21:02<01:05,  5.32it/s]/media/research/neural-image-assessment/.venv/lib/python3.10/site-packages/PIL/TiffImagePlugin.py:864: UserWarning: Truncated File Read\n",
      "  warnings.warn(str(msg))\n",
      "Epoch: [0][7186/7187]\tBatch Loss 0.0690\t: 100%|██████████| 7187/7187 [22:06<00:00,  5.42it/s]\n"
     ]
    },
    {
     "name": "stdout",
     "output_type": "stream",
     "text": [
      "Epoch: [1]\tMean Training EMD Loss 0.0862\t\n"
     ]
    },
    {
     "name": "stderr",
     "output_type": "stream",
     "text": [
      "Epoch: [0] Validation Loss 0.0815\t:  18%|█▊        | 73/397 [00:05<00:19, 16.86it/s]/media/research/neural-image-assessment/.venv/lib/python3.10/site-packages/PIL/TiffImagePlugin.py:864: UserWarning: Truncated File Read\n",
      "  warnings.warn(str(msg))\n",
      "Epoch: [0] Validation Loss 0.1070\t: 100%|██████████| 397/397 [00:24<00:00, 16.12it/s]\n"
     ]
    },
    {
     "name": "stdout",
     "output_type": "stream",
     "text": [
      "Epoch: [1]\tMean Validation EMD Loss 0.0801\t\n",
      "Model saved\n"
     ]
    },
    {
     "name": "stderr",
     "output_type": "stream",
     "text": [
      "Epoch: [1][11/7187]\tBatch Loss 0.0727\t:   0%|          | 12/7187 [00:03<22:06,  5.41it/s]/media/research/neural-image-assessment/.venv/lib/python3.10/site-packages/PIL/TiffImagePlugin.py:864: UserWarning: Truncated File Read\n",
      "  warnings.warn(str(msg))\n",
      "Epoch: [1][103/7187]\tBatch Loss 0.0944\t:   1%|▏         | 104/7187 [00:20<21:37,  5.46it/s]/media/research/neural-image-assessment/.venv/lib/python3.10/site-packages/PIL/TiffImagePlugin.py:864: UserWarning: Truncated File Read\n",
      "  warnings.warn(str(msg))\n",
      "Epoch: [1][1171/7187]\tBatch Loss 0.0932\t:  16%|█▋        | 1172/7187 [03:35<18:22,  5.46it/s]/media/research/neural-image-assessment/.venv/lib/python3.10/site-packages/PIL/TiffImagePlugin.py:864: UserWarning: Truncated File Read\n",
      "  warnings.warn(str(msg))\n",
      "Epoch: [1][1907/7187]\tBatch Loss 0.0991\t:  27%|██▋       | 1908/7187 [05:50<15:32,  5.66it/s]/media/research/neural-image-assessment/.venv/lib/python3.10/site-packages/PIL/TiffImagePlugin.py:864: UserWarning: Truncated File Read\n",
      "  warnings.warn(str(msg))\n",
      "Epoch: [1][2556/7187]\tBatch Loss 0.0772\t:  36%|███▌      | 2557/7187 [07:49<14:34,  5.30it/s]/media/research/neural-image-assessment/.venv/lib/python3.10/site-packages/PIL/TiffImagePlugin.py:864: UserWarning: Truncated File Read\n",
      "  warnings.warn(str(msg))\n",
      "Epoch: [1][2704/7187]\tBatch Loss 0.0884\t:  38%|███▊      | 2705/7187 [08:16<13:50,  5.40it/s]/media/research/neural-image-assessment/.venv/lib/python3.10/site-packages/PIL/TiffImagePlugin.py:864: UserWarning: Truncated File Read\n",
      "  warnings.warn(str(msg))\n",
      "Epoch: [1][3062/7187]\tBatch Loss 0.0766\t:  43%|████▎     | 3063/7187 [09:20<12:41,  5.42it/s]/media/research/neural-image-assessment/.venv/lib/python3.10/site-packages/PIL/TiffImagePlugin.py:864: UserWarning: Truncated File Read\n",
      "  warnings.warn(str(msg))\n",
      "Epoch: [1][3281/7187]\tBatch Loss 0.1031\t:  46%|████▌     | 3282/7187 [10:00<12:14,  5.31it/s]/media/research/neural-image-assessment/.venv/lib/python3.10/site-packages/PIL/TiffImagePlugin.py:864: UserWarning: Truncated File Read\n",
      "  warnings.warn(str(msg))\n",
      "Epoch: [1][3448/7187]\tBatch Loss 0.0837\t:  48%|████▊     | 3449/7187 [10:31<11:42,  5.32it/s]/media/research/neural-image-assessment/.venv/lib/python3.10/site-packages/PIL/TiffImagePlugin.py:864: UserWarning: Corrupt EXIF data.  Expecting to read 2 bytes but only got 0. \n",
      "  warnings.warn(str(msg))\n",
      "Epoch: [1][5138/7187]\tBatch Loss 0.0658\t:  72%|███████▏  | 5139/7187 [15:48<06:22,  5.35it/s]/media/research/neural-image-assessment/.venv/lib/python3.10/site-packages/PIL/TiffImagePlugin.py:864: UserWarning: Corrupt EXIF data.  Expecting to read 2 bytes but only got 0. \n",
      "  warnings.warn(str(msg))\n",
      "Epoch: [1][5309/7187]\tBatch Loss 0.0843\t:  74%|███████▍  | 5310/7187 [16:20<05:53,  5.31it/s]/media/research/neural-image-assessment/.venv/lib/python3.10/site-packages/PIL/TiffImagePlugin.py:864: UserWarning: Truncated File Read\n",
      "  warnings.warn(str(msg))\n",
      "Epoch: [1][5665/7187]\tBatch Loss 0.0562\t:  79%|███████▉  | 5666/7187 [17:27<04:41,  5.39it/s]/media/research/neural-image-assessment/.venv/lib/python3.10/site-packages/PIL/TiffImagePlugin.py:864: UserWarning: Truncated File Read\n",
      "  warnings.warn(str(msg))\n",
      "Epoch: [1][5726/7187]\tBatch Loss 0.0975\t:  80%|███████▉  | 5727/7187 [17:38<04:24,  5.53it/s]/media/research/neural-image-assessment/.venv/lib/python3.10/site-packages/PIL/TiffImagePlugin.py:864: UserWarning: Truncated File Read\n",
      "  warnings.warn(str(msg))\n",
      "Epoch: [1][7186/7187]\tBatch Loss 0.0622\t: 100%|██████████| 7187/7187 [22:08<00:00,  5.41it/s]\n"
     ]
    },
    {
     "name": "stdout",
     "output_type": "stream",
     "text": [
      "Epoch: [2]\tMean Training EMD Loss 0.0783\t\n"
     ]
    },
    {
     "name": "stderr",
     "output_type": "stream",
     "text": [
      "Epoch: [1] Validation Loss 0.0800\t:  18%|█▊        | 73/397 [00:05<00:18, 17.18it/s]/media/research/neural-image-assessment/.venv/lib/python3.10/site-packages/PIL/TiffImagePlugin.py:864: UserWarning: Truncated File Read\n",
      "  warnings.warn(str(msg))\n",
      "Epoch: [1] Validation Loss 0.1106\t: 100%|██████████| 397/397 [00:24<00:00, 16.14it/s]\n"
     ]
    },
    {
     "name": "stdout",
     "output_type": "stream",
     "text": [
      "Epoch: [2]\tMean Validation EMD Loss 0.0774\t\n"
     ]
    },
    {
     "name": "stderr",
     "output_type": "stream",
     "text": [
      "Epoch: [2][684/7187]\tBatch Loss 0.0584\t:  10%|▉         | 685/7187 [02:06<20:19,  5.33it/s]/media/research/neural-image-assessment/.venv/lib/python3.10/site-packages/PIL/TiffImagePlugin.py:864: UserWarning: Truncated File Read\n",
      "  warnings.warn(str(msg))\n",
      "Epoch: [2][1123/7187]\tBatch Loss 0.0685\t:  16%|█▌        | 1124/7187 [03:27<17:10,  5.89it/s]/media/research/neural-image-assessment/.venv/lib/python3.10/site-packages/PIL/TiffImagePlugin.py:864: UserWarning: Truncated File Read\n",
      "  warnings.warn(str(msg))\n",
      "Epoch: [2][1135/7187]\tBatch Loss 0.0760\t:  16%|█▌        | 1136/7187 [03:29<17:05,  5.90it/s]/media/research/neural-image-assessment/.venv/lib/python3.10/site-packages/PIL/TiffImagePlugin.py:864: UserWarning: Truncated File Read\n",
      "  warnings.warn(str(msg))\n",
      "Epoch: [2][2546/7187]\tBatch Loss 0.0869\t:  35%|███▌      | 2547/7187 [07:51<14:28,  5.34it/s]/media/research/neural-image-assessment/.venv/lib/python3.10/site-packages/PIL/TiffImagePlugin.py:864: UserWarning: Truncated File Read\n",
      "  warnings.warn(str(msg))\n",
      "Epoch: [2][3368/7187]\tBatch Loss 0.0748\t:  47%|████▋     | 3369/7187 [10:25<11:54,  5.34it/s]/media/research/neural-image-assessment/.venv/lib/python3.10/site-packages/PIL/TiffImagePlugin.py:864: UserWarning: Truncated File Read\n",
      "  warnings.warn(str(msg))\n",
      "Epoch: [2][3641/7187]\tBatch Loss 0.0782\t:  51%|█████     | 3642/7187 [11:16<10:35,  5.57it/s]/media/research/neural-image-assessment/.venv/lib/python3.10/site-packages/PIL/TiffImagePlugin.py:864: UserWarning: Truncated File Read\n",
      "  warnings.warn(str(msg))\n",
      "Epoch: [2][3650/7187]\tBatch Loss 0.0884\t:  51%|█████     | 3651/7187 [11:18<11:05,  5.31it/s]/media/research/neural-image-assessment/.venv/lib/python3.10/site-packages/PIL/TiffImagePlugin.py:864: UserWarning: Truncated File Read\n",
      "  warnings.warn(str(msg))\n",
      "Epoch: [2][5030/7187]\tBatch Loss 0.0851\t:  70%|███████   | 5031/7187 [15:35<06:47,  5.30it/s]/media/research/neural-image-assessment/.venv/lib/python3.10/site-packages/PIL/TiffImagePlugin.py:864: UserWarning: Truncated File Read\n",
      "  warnings.warn(str(msg))\n",
      "Epoch: [2][5608/7187]\tBatch Loss 0.0716\t:  78%|███████▊  | 5609/7187 [17:18<04:44,  5.54it/s]/media/research/neural-image-assessment/.venv/lib/python3.10/site-packages/PIL/TiffImagePlugin.py:864: UserWarning: Corrupt EXIF data.  Expecting to read 2 bytes but only got 0. \n",
      "  warnings.warn(str(msg))\n",
      "Epoch: [2][6393/7187]\tBatch Loss 0.0725\t:  89%|████████▉ | 6394/7187 [19:43<02:29,  5.30it/s]/media/research/neural-image-assessment/.venv/lib/python3.10/site-packages/PIL/TiffImagePlugin.py:864: UserWarning: Truncated File Read\n",
      "  warnings.warn(str(msg))\n",
      "Epoch: [2][6680/7187]\tBatch Loss 0.0862\t:  93%|█████████▎| 6681/7187 [20:34<01:27,  5.81it/s]/media/research/neural-image-assessment/.venv/lib/python3.10/site-packages/PIL/TiffImagePlugin.py:864: UserWarning: Truncated File Read\n",
      "  warnings.warn(str(msg))\n",
      "Epoch: [2][6717/7187]\tBatch Loss 0.0803\t:  93%|█████████▎| 6718/7187 [20:41<01:21,  5.76it/s]/media/research/neural-image-assessment/.venv/lib/python3.10/site-packages/PIL/TiffImagePlugin.py:864: UserWarning: Truncated File Read\n",
      "  warnings.warn(str(msg))\n",
      "Epoch: [2][7068/7187]\tBatch Loss 0.0726\t:  98%|█████████▊| 7069/7187 [21:44<00:21,  5.45it/s]/media/research/neural-image-assessment/.venv/lib/python3.10/site-packages/PIL/TiffImagePlugin.py:864: UserWarning: Corrupt EXIF data.  Expecting to read 2 bytes but only got 0. \n",
      "  warnings.warn(str(msg))\n",
      "Epoch: [2][7186/7187]\tBatch Loss 0.0659\t: 100%|██████████| 7187/7187 [22:06<00:00,  5.42it/s]\n"
     ]
    },
    {
     "name": "stdout",
     "output_type": "stream",
     "text": [
      "Epoch: [3]\tMean Training EMD Loss 0.0765\t\n"
     ]
    },
    {
     "name": "stderr",
     "output_type": "stream",
     "text": [
      "Epoch: [2] Validation Loss 0.0801\t:  18%|█▊        | 72/397 [00:05<00:19, 17.01it/s]/media/research/neural-image-assessment/.venv/lib/python3.10/site-packages/PIL/TiffImagePlugin.py:864: UserWarning: Truncated File Read\n",
      "  warnings.warn(str(msg))\n",
      "Epoch: [2] Validation Loss 0.0992\t: 100%|██████████| 397/397 [00:24<00:00, 16.08it/s]\n"
     ]
    },
    {
     "name": "stdout",
     "output_type": "stream",
     "text": [
      "Epoch: [3]\tMean Validation EMD Loss 0.0759\t\n"
     ]
    },
    {
     "name": "stderr",
     "output_type": "stream",
     "text": [
      "Epoch: [3][51/7187]\tBatch Loss 0.0727\t:   1%|          | 52/7187 [00:10<21:07,  5.63it/s]/media/research/neural-image-assessment/.venv/lib/python3.10/site-packages/PIL/TiffImagePlugin.py:864: UserWarning: Truncated File Read\n",
      "  warnings.warn(str(msg))\n",
      "Epoch: [3][104/7187]\tBatch Loss 0.0776\t:   1%|▏         | 105/7187 [00:20<21:55,  5.38it/s]/media/research/neural-image-assessment/.venv/lib/python3.10/site-packages/PIL/TiffImagePlugin.py:864: UserWarning: Truncated File Read\n",
      "  warnings.warn(str(msg))\n",
      "Epoch: [3][449/7187]\tBatch Loss 0.0658\t:   6%|▋         | 450/7187 [01:24<21:06,  5.32it/s]/media/research/neural-image-assessment/.venv/lib/python3.10/site-packages/PIL/TiffImagePlugin.py:864: UserWarning: Truncated File Read\n",
      "  warnings.warn(str(msg))\n",
      "Epoch: [3][746/7187]\tBatch Loss 0.0748\t:  10%|█         | 747/7187 [02:19<20:11,  5.32it/s]/media/research/neural-image-assessment/.venv/lib/python3.10/site-packages/PIL/TiffImagePlugin.py:864: UserWarning: Truncated File Read\n",
      "  warnings.warn(str(msg))\n",
      "Epoch: [3][4057/7187]\tBatch Loss 0.0841\t:  56%|█████▋    | 4058/7187 [12:36<09:33,  5.45it/s]/media/research/neural-image-assessment/.venv/lib/python3.10/site-packages/PIL/TiffImagePlugin.py:864: UserWarning: Truncated File Read\n",
      "  warnings.warn(str(msg))\n",
      "Epoch: [3][4672/7187]\tBatch Loss 0.0786\t:  65%|██████▌   | 4673/7187 [14:31<07:51,  5.33it/s]/media/research/neural-image-assessment/.venv/lib/python3.10/site-packages/PIL/TiffImagePlugin.py:864: UserWarning: Truncated File Read\n",
      "  warnings.warn(str(msg))\n",
      "Epoch: [3][5355/7187]\tBatch Loss 0.0664\t:  75%|███████▍  | 5356/7187 [16:37<05:41,  5.36it/s]/media/research/neural-image-assessment/.venv/lib/python3.10/site-packages/PIL/TiffImagePlugin.py:864: UserWarning: Corrupt EXIF data.  Expecting to read 2 bytes but only got 0. \n",
      "  warnings.warn(str(msg))\n",
      "Epoch: [3][5441/7187]\tBatch Loss 0.0725\t:  76%|███████▌  | 5442/7187 [16:53<05:27,  5.33it/s]/media/research/neural-image-assessment/.venv/lib/python3.10/site-packages/PIL/TiffImagePlugin.py:864: UserWarning: Truncated File Read\n",
      "  warnings.warn(str(msg))\n",
      "Epoch: [3][5579/7187]\tBatch Loss 0.0816\t:  78%|███████▊  | 5580/7187 [17:18<05:00,  5.35it/s]/media/research/neural-image-assessment/.venv/lib/python3.10/site-packages/PIL/TiffImagePlugin.py:864: UserWarning: Truncated File Read\n",
      "  warnings.warn(str(msg))\n",
      "Epoch: [3][6056/7187]\tBatch Loss 0.0701\t:  84%|████████▍ | 6057/7187 [18:46<03:21,  5.60it/s]/media/research/neural-image-assessment/.venv/lib/python3.10/site-packages/PIL/TiffImagePlugin.py:864: UserWarning: Truncated File Read\n",
      "  warnings.warn(str(msg))\n",
      "Epoch: [3][6806/7187]\tBatch Loss 0.0757\t:  95%|█████████▍| 6807/7187 [21:04<01:11,  5.31it/s]/media/research/neural-image-assessment/.venv/lib/python3.10/site-packages/PIL/TiffImagePlugin.py:864: UserWarning: Corrupt EXIF data.  Expecting to read 2 bytes but only got 0. \n",
      "  warnings.warn(str(msg))\n",
      "Epoch: [3][7094/7187]\tBatch Loss 0.0898\t:  99%|█████████▊| 7095/7187 [21:58<00:17,  5.31it/s]/media/research/neural-image-assessment/.venv/lib/python3.10/site-packages/PIL/TiffImagePlugin.py:864: UserWarning: Truncated File Read\n",
      "  warnings.warn(str(msg))\n",
      "Epoch: [3][7186/7187]\tBatch Loss 0.0757\t: 100%|██████████| 7187/7187 [22:15<00:00,  5.38it/s]\n"
     ]
    },
    {
     "name": "stdout",
     "output_type": "stream",
     "text": [
      "Epoch: [4]\tMean Training EMD Loss 0.0755\t\n"
     ]
    },
    {
     "name": "stderr",
     "output_type": "stream",
     "text": [
      "Epoch: [3] Validation Loss 0.0825\t:  18%|█▊        | 72/397 [00:05<00:19, 17.10it/s]/media/research/neural-image-assessment/.venv/lib/python3.10/site-packages/PIL/TiffImagePlugin.py:864: UserWarning: Truncated File Read\n",
      "  warnings.warn(str(msg))\n",
      "Epoch: [3] Validation Loss 0.0989\t: 100%|██████████| 397/397 [00:24<00:00, 16.01it/s]\n"
     ]
    },
    {
     "name": "stdout",
     "output_type": "stream",
     "text": [
      "Epoch: [4]\tMean Validation EMD Loss 0.0764\t\n"
     ]
    },
    {
     "name": "stderr",
     "output_type": "stream",
     "text": [
      "Epoch: [4][179/7187]\tBatch Loss 0.0752\t:   3%|▎         | 180/7187 [00:34<21:30,  5.43it/s]/media/research/neural-image-assessment/.venv/lib/python3.10/site-packages/PIL/TiffImagePlugin.py:864: UserWarning: Truncated File Read\n",
      "  warnings.warn(str(msg))\n",
      "Epoch: [4][562/7187]\tBatch Loss 0.0743\t:   8%|▊         | 563/7187 [01:44<19:48,  5.57it/s]/media/research/neural-image-assessment/.venv/lib/python3.10/site-packages/PIL/TiffImagePlugin.py:864: UserWarning: Truncated File Read\n",
      "  warnings.warn(str(msg))\n",
      "Epoch: [4][699/7187]\tBatch Loss 0.0740\t:  10%|▉         | 700/7187 [02:09<18:36,  5.81it/s]/media/research/neural-image-assessment/.venv/lib/python3.10/site-packages/PIL/TiffImagePlugin.py:864: UserWarning: Truncated File Read\n",
      "  warnings.warn(str(msg))\n",
      "Epoch: [4][1144/7187]\tBatch Loss 0.0756\t:  16%|█▌        | 1145/7187 [03:30<18:48,  5.35it/s]/media/research/neural-image-assessment/.venv/lib/python3.10/site-packages/PIL/TiffImagePlugin.py:864: UserWarning: Corrupt EXIF data.  Expecting to read 2 bytes but only got 0. \n",
      "  warnings.warn(str(msg))\n",
      "Epoch: [4][1632/7187]\tBatch Loss 0.0839\t:  23%|██▎       | 1633/7187 [05:01<16:51,  5.49it/s]/media/research/neural-image-assessment/.venv/lib/python3.10/site-packages/PIL/TiffImagePlugin.py:864: UserWarning: Truncated File Read\n",
      "  warnings.warn(str(msg))\n",
      "Epoch: [4][2779/7187]\tBatch Loss 0.0733\t:  39%|███▊      | 2780/7187 [08:31<13:49,  5.32it/s]/media/research/neural-image-assessment/.venv/lib/python3.10/site-packages/PIL/TiffImagePlugin.py:864: UserWarning: Truncated File Read\n",
      "  warnings.warn(str(msg))\n",
      "Epoch: [4][3682/7187]\tBatch Loss 0.0715\t:  51%|█████     | 3683/7187 [11:17<11:01,  5.30it/s]/media/research/neural-image-assessment/.venv/lib/python3.10/site-packages/PIL/TiffImagePlugin.py:864: UserWarning: Truncated File Read\n",
      "  warnings.warn(str(msg))\n",
      "Epoch: [4][3798/7187]\tBatch Loss 0.0700\t:  53%|█████▎    | 3799/7187 [11:39<10:16,  5.49it/s]/media/research/neural-image-assessment/.venv/lib/python3.10/site-packages/PIL/TiffImagePlugin.py:864: UserWarning: Truncated File Read\n",
      "  warnings.warn(str(msg))\n",
      "Epoch: [4][4924/7187]\tBatch Loss 0.0836\t:  69%|██████▊   | 4925/7187 [15:06<06:51,  5.49it/s]/media/research/neural-image-assessment/.venv/lib/python3.10/site-packages/PIL/TiffImagePlugin.py:864: UserWarning: Truncated File Read\n",
      "  warnings.warn(str(msg))\n",
      "Epoch: [4][5676/7187]\tBatch Loss 0.0777\t:  79%|███████▉  | 5677/7187 [17:26<04:44,  5.30it/s]/media/research/neural-image-assessment/.venv/lib/python3.10/site-packages/PIL/TiffImagePlugin.py:864: UserWarning: Truncated File Read\n",
      "  warnings.warn(str(msg))\n",
      "Epoch: [4][6213/7187]\tBatch Loss 0.0782\t:  86%|████████▋ | 6214/7187 [19:08<03:02,  5.33it/s]/media/research/neural-image-assessment/.venv/lib/python3.10/site-packages/PIL/TiffImagePlugin.py:864: UserWarning: Corrupt EXIF data.  Expecting to read 2 bytes but only got 0. \n",
      "  warnings.warn(str(msg))\n",
      "Epoch: [4][6239/7187]\tBatch Loss 0.0695\t:  87%|████████▋ | 6240/7187 [19:12<02:58,  5.31it/s]/media/research/neural-image-assessment/.venv/lib/python3.10/site-packages/PIL/TiffImagePlugin.py:864: UserWarning: Truncated File Read\n",
      "  warnings.warn(str(msg))\n",
      "Epoch: [4][6788/7187]\tBatch Loss 0.0671\t:  94%|█████████▍| 6789/7187 [20:56<01:14,  5.32it/s]/media/research/neural-image-assessment/.venv/lib/python3.10/site-packages/PIL/TiffImagePlugin.py:864: UserWarning: Truncated File Read\n",
      "  warnings.warn(str(msg))\n",
      "Epoch: [4][6907/7187]\tBatch Loss 0.0722\t:  96%|█████████▌| 6908/7187 [21:18<00:47,  5.88it/s]/media/research/neural-image-assessment/.venv/lib/python3.10/site-packages/PIL/TiffImagePlugin.py:864: UserWarning: Truncated File Read\n",
      "  warnings.warn(str(msg))\n",
      "Epoch: [4][7186/7187]\tBatch Loss 0.0605\t: 100%|██████████| 7187/7187 [22:10<00:00,  5.40it/s]\n"
     ]
    },
    {
     "name": "stdout",
     "output_type": "stream",
     "text": [
      "Epoch: [5]\tMean Training EMD Loss 0.0747\t\n"
     ]
    },
    {
     "name": "stderr",
     "output_type": "stream",
     "text": [
      "Epoch: [4] Validation Loss 0.0803\t:  18%|█▊        | 73/397 [00:05<00:18, 17.15it/s]/media/research/neural-image-assessment/.venv/lib/python3.10/site-packages/PIL/TiffImagePlugin.py:864: UserWarning: Truncated File Read\n",
      "  warnings.warn(str(msg))\n",
      "Epoch: [4] Validation Loss 0.1029\t: 100%|██████████| 397/397 [00:24<00:00, 16.04it/s]\n"
     ]
    },
    {
     "name": "stdout",
     "output_type": "stream",
     "text": [
      "Epoch: [5]\tMean Validation EMD Loss 0.0744\t\n"
     ]
    },
    {
     "name": "stderr",
     "output_type": "stream",
     "text": [
      "Epoch: [5][36/7187]\tBatch Loss 0.0795\t:   1%|          | 37/7187 [00:08<27:28,  4.34it/s]\n"
     ]
    },
    {
     "ename": "KeyboardInterrupt",
     "evalue": "",
     "output_type": "error",
     "traceback": [
      "\u001b[0;31m---------------------------------------------------------------------------\u001b[0m",
      "\u001b[0;31mKeyboardInterrupt\u001b[0m                         Traceback (most recent call last)",
      "Cell \u001b[0;32mIn[8], line 12\u001b[0m\n\u001b[1;32m      9\u001b[0m avg_val_loss \u001b[39m=\u001b[39m \u001b[39m0\u001b[39m\n\u001b[1;32m     11\u001b[0m \u001b[39m# train\u001b[39;00m\n\u001b[0;32m---> 12\u001b[0m train_model(model, optimizer, epoch, train_losses, avg_loss)\n\u001b[1;32m     14\u001b[0m \u001b[39m# validate\u001b[39;00m\n\u001b[1;32m     15\u001b[0m validation(model, val_losses, avg_val_loss, avg_loss, epoch)\n",
      "Cell \u001b[0;32mIn[5], line 19\u001b[0m, in \u001b[0;36mtrain_model\u001b[0;34m(model, optimizer, epoch, train_losses, avg_loss)\u001b[0m\n\u001b[1;32m     16\u001b[0m loss\u001b[39m.\u001b[39mbackward()\n\u001b[1;32m     17\u001b[0m optimizer\u001b[39m.\u001b[39mstep()\n\u001b[0;32m---> 19\u001b[0m writer\u001b[39m.\u001b[39;49madd_scalar(\u001b[39m'\u001b[39;49m\u001b[39mbatch train loss\u001b[39;49m\u001b[39m'\u001b[39;49m, loss\u001b[39m.\u001b[39;49mdata[\u001b[39m0\u001b[39;49m], i \u001b[39m+\u001b[39;49m epoch \u001b[39m*\u001b[39;49m (\u001b[39mlen\u001b[39;49m(trainset) \u001b[39m/\u001b[39;49m\u001b[39m/\u001b[39;49m BATCH_SIZE \u001b[39m+\u001b[39;49m \u001b[39m1\u001b[39;49m))\n\u001b[1;32m     21\u001b[0m \u001b[39m# tqdm description\u001b[39;00m\n\u001b[1;32m     22\u001b[0m pbar\u001b[39m.\u001b[39mset_description(\u001b[39m'\u001b[39m\u001b[39mEpoch: [\u001b[39m\u001b[39m{0}\u001b[39;00m\u001b[39m][\u001b[39m\u001b[39m{1}\u001b[39;00m\u001b[39m/\u001b[39m\u001b[39m{2}\u001b[39;00m\u001b[39m]\u001b[39m\u001b[39m\\t\u001b[39;00m\u001b[39m'\u001b[39m \u001b[39m'\u001b[39m\u001b[39mBatch Loss \u001b[39m\u001b[39m{loss:.4f}\u001b[39;00m\u001b[39m\\t\u001b[39;00m\u001b[39m'\u001b[39m\u001b[39m.\u001b[39mformat(epoch, i, \u001b[39mlen\u001b[39m(trainset) \u001b[39m/\u001b[39m\u001b[39m/\u001b[39m BATCH_SIZE \u001b[39m+\u001b[39m \u001b[39m1\u001b[39m, loss\u001b[39m=\u001b[39mloss\u001b[39m.\u001b[39mdata[\u001b[39m0\u001b[39m]))\n",
      "File \u001b[0;32m/media/research/neural-image-assessment/.venv/lib/python3.10/site-packages/torch/utils/tensorboard/writer.py:388\u001b[0m, in \u001b[0;36mSummaryWriter.add_scalar\u001b[0;34m(self, tag, scalar_value, global_step, walltime, new_style, double_precision)\u001b[0m\n\u001b[1;32m    384\u001b[0m     \u001b[39mfrom\u001b[39;00m \u001b[39mcaffe2\u001b[39;00m\u001b[39m.\u001b[39;00m\u001b[39mpython\u001b[39;00m \u001b[39mimport\u001b[39;00m workspace\n\u001b[1;32m    386\u001b[0m     scalar_value \u001b[39m=\u001b[39m workspace\u001b[39m.\u001b[39mFetchBlob(scalar_value)\n\u001b[0;32m--> 388\u001b[0m summary \u001b[39m=\u001b[39m scalar(\n\u001b[1;32m    389\u001b[0m     tag, scalar_value, new_style\u001b[39m=\u001b[39;49mnew_style, double_precision\u001b[39m=\u001b[39;49mdouble_precision\n\u001b[1;32m    390\u001b[0m )\n\u001b[1;32m    391\u001b[0m \u001b[39mself\u001b[39m\u001b[39m.\u001b[39m_get_file_writer()\u001b[39m.\u001b[39madd_summary(summary, global_step, walltime)\n",
      "File \u001b[0;32m/media/research/neural-image-assessment/.venv/lib/python3.10/site-packages/torch/utils/tensorboard/summary.py:280\u001b[0m, in \u001b[0;36mscalar\u001b[0;34m(name, tensor, collections, new_style, double_precision)\u001b[0m\n\u001b[1;32m    264\u001b[0m \u001b[39mdef\u001b[39;00m \u001b[39mscalar\u001b[39m(name, tensor, collections\u001b[39m=\u001b[39m\u001b[39mNone\u001b[39;00m, new_style\u001b[39m=\u001b[39m\u001b[39mFalse\u001b[39;00m, double_precision\u001b[39m=\u001b[39m\u001b[39mFalse\u001b[39;00m):\n\u001b[1;32m    265\u001b[0m \u001b[39m    \u001b[39m\u001b[39m\"\"\"Outputs a `Summary` protocol buffer containing a single scalar value.\u001b[39;00m\n\u001b[1;32m    266\u001b[0m \u001b[39m    The generated Summary has a Tensor.proto containing the input Tensor.\u001b[39;00m\n\u001b[1;32m    267\u001b[0m \u001b[39m    Args:\u001b[39;00m\n\u001b[0;32m   (...)\u001b[0m\n\u001b[1;32m    278\u001b[0m \u001b[39m      ValueError: If tensor has the wrong shape or type.\u001b[39;00m\n\u001b[1;32m    279\u001b[0m \u001b[39m    \"\"\"\u001b[39;00m\n\u001b[0;32m--> 280\u001b[0m     tensor \u001b[39m=\u001b[39m make_np(tensor)\u001b[39m.\u001b[39msqueeze()\n\u001b[1;32m    281\u001b[0m     \u001b[39massert\u001b[39;00m (\n\u001b[1;32m    282\u001b[0m         tensor\u001b[39m.\u001b[39mndim \u001b[39m==\u001b[39m \u001b[39m0\u001b[39m\n\u001b[1;32m    283\u001b[0m     ), \u001b[39mf\u001b[39m\u001b[39m\"\u001b[39m\u001b[39mTensor should contain one element (0 dimensions). Was given size: \u001b[39m\u001b[39m{\u001b[39;00mtensor\u001b[39m.\u001b[39msize\u001b[39m}\u001b[39;00m\u001b[39m and \u001b[39m\u001b[39m{\u001b[39;00mtensor\u001b[39m.\u001b[39mndim\u001b[39m}\u001b[39;00m\u001b[39m dimensions.\u001b[39m\u001b[39m\"\u001b[39m\n\u001b[1;32m    284\u001b[0m     \u001b[39m# python float is double precision in numpy\u001b[39;00m\n",
      "File \u001b[0;32m/media/research/neural-image-assessment/.venv/lib/python3.10/site-packages/torch/utils/tensorboard/_convert_np.py:23\u001b[0m, in \u001b[0;36mmake_np\u001b[0;34m(x)\u001b[0m\n\u001b[1;32m     21\u001b[0m     \u001b[39mreturn\u001b[39;00m np\u001b[39m.\u001b[39marray([x])\n\u001b[1;32m     22\u001b[0m \u001b[39mif\u001b[39;00m \u001b[39misinstance\u001b[39m(x, torch\u001b[39m.\u001b[39mTensor):\n\u001b[0;32m---> 23\u001b[0m     \u001b[39mreturn\u001b[39;00m _prepare_pytorch(x)\n\u001b[1;32m     24\u001b[0m \u001b[39mraise\u001b[39;00m \u001b[39mNotImplementedError\u001b[39;00m(\n\u001b[1;32m     25\u001b[0m     \u001b[39m\"\u001b[39m\u001b[39mGot \u001b[39m\u001b[39m{}\u001b[39;00m\u001b[39m, but numpy array, torch tensor, or caffe2 blob name are expected.\u001b[39m\u001b[39m\"\u001b[39m\u001b[39m.\u001b[39mformat(\n\u001b[1;32m     26\u001b[0m         \u001b[39mtype\u001b[39m(x)\n\u001b[1;32m     27\u001b[0m     )\n\u001b[1;32m     28\u001b[0m )\n",
      "File \u001b[0;32m/media/research/neural-image-assessment/.venv/lib/python3.10/site-packages/torch/utils/tensorboard/_convert_np.py:32\u001b[0m, in \u001b[0;36m_prepare_pytorch\u001b[0;34m(x)\u001b[0m\n\u001b[1;32m     31\u001b[0m \u001b[39mdef\u001b[39;00m \u001b[39m_prepare_pytorch\u001b[39m(x):\n\u001b[0;32m---> 32\u001b[0m     x \u001b[39m=\u001b[39m x\u001b[39m.\u001b[39;49mdetach()\u001b[39m.\u001b[39;49mcpu()\u001b[39m.\u001b[39mnumpy()\n\u001b[1;32m     33\u001b[0m     \u001b[39mreturn\u001b[39;00m x\n",
      "\u001b[0;31mKeyboardInterrupt\u001b[0m: "
     ]
    }
   ],
   "source": [
    "count = 0\n",
    "init_val_loss = float('inf')\n",
    "train_losses = []\n",
    "val_losses = []\n",
    "\n",
    "for epoch in range(EPOCHS):\n",
    "    \n",
    "    avg_loss = 0\n",
    "    avg_val_loss = 0\n",
    "    \n",
    "    # train\n",
    "    train_model(model, optimizer, epoch, train_losses, avg_loss)\n",
    "    \n",
    "    # validate\n",
    "    validation(model, val_losses, avg_val_loss, avg_loss, epoch)\n",
    "    \n",
    "    if avg_val_loss < init_val_loss:\n",
    "        init_val_loss = avg_val_loss\n",
    "        \n",
    "        # save model\n",
    "        if not os.path.exists('checkpoints'):\n",
    "            os.makedirs('checkpoints')\n",
    "        torch.save(model.state_dict(), os.path.join('checkpoints', f'epoch_{epoch + 1}_val_loss_{avg_val_loss}.pth'))\n",
    "        print('Model saved')\n",
    "        count = 0\n",
    "    elif avg_val_loss >= init_val_loss:\n",
    "        count += 1\n",
    "        if count == EARLY_STOPPING:\n",
    "            print('Early stopping')\n",
    "            break\n",
    "    "
   ]
  }
 ],
 "metadata": {
  "kernelspec": {
   "display_name": ".venv",
   "language": "python",
   "name": "python3"
  },
  "language_info": {
   "codemirror_mode": {
    "name": "ipython",
    "version": 3
   },
   "file_extension": ".py",
   "mimetype": "text/x-python",
   "name": "python",
   "nbconvert_exporter": "python",
   "pygments_lexer": "ipython3",
   "version": "3.10.11"
  },
  "orig_nbformat": 4
 },
 "nbformat": 4,
 "nbformat_minor": 2
}
